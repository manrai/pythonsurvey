{
  "nbformat": 4,
  "nbformat_minor": 0,
  "metadata": {
    "colab": {
      "name": "Python survey + NHANES",
      "version": "0.3.2",
      "provenance": [],
      "collapsed_sections": [],
      "include_colab_link": true
    },
    "kernelspec": {
      "name": "python3",
      "display_name": "Python 3"
    }
  },
  "cells": [
    {
      "cell_type": "markdown",
      "metadata": {
        "id": "view-in-github",
        "colab_type": "text"
      },
      "source": [
        "<a href=\"https://colab.research.google.com/github/manrai/pythonsurvey/blob/master/Python_survey_and_NHANES.ipynb\" target=\"_parent\"><img src=\"https://colab.research.google.com/assets/colab-badge.svg\" alt=\"Open In Colab\"/></a>"
      ]
    },
    {
      "metadata": {
        "id": "62uf0emi4NO6",
        "colab_type": "code",
        "colab": {}
      },
      "cell_type": "code",
      "source": [
        "# load Python modules\n",
        "import pandas as pd\n",
        "import io\n",
        "import requests"
      ],
      "execution_count": 0,
      "outputs": []
    },
    {
      "metadata": {
        "id": "0IOhQ_VB4Zk3",
        "colab_type": "code",
        "colab": {}
      },
      "cell_type": "code",
      "source": [
        "# import NHANES 2013-14 BMX data\n",
        "url = \"https://raw.githubusercontent.com/manrai/pythonsurvey/master/bmx_8.csv\"\n",
        "s = requests.get(url).content\n",
        "df = pd.read_csv(io.StringIO(s.decode('utf-8')))"
      ],
      "execution_count": 0,
      "outputs": []
    },
    {
      "metadata": {
        "id": "UHjv-EMd-YB9",
        "colab_type": "code",
        "outputId": "5181f86e-2779-457e-86d6-5705133c2fff",
        "colab": {
          "base_uri": "https://localhost:8080/",
          "height": 253
        }
      },
      "cell_type": "code",
      "source": [
        "# preview data\n",
        "df.head()"
      ],
      "execution_count": 0,
      "outputs": [
        {
          "output_type": "execute_result",
          "data": {
            "text/html": [
              "<div>\n",
              "<style scoped>\n",
              "    .dataframe tbody tr th:only-of-type {\n",
              "        vertical-align: middle;\n",
              "    }\n",
              "\n",
              "    .dataframe tbody tr th {\n",
              "        vertical-align: top;\n",
              "    }\n",
              "\n",
              "    .dataframe thead th {\n",
              "        text-align: right;\n",
              "    }\n",
              "</style>\n",
              "<table border=\"1\" class=\"dataframe\">\n",
              "  <thead>\n",
              "    <tr style=\"text-align: right;\">\n",
              "      <th></th>\n",
              "      <th>SEQN</th>\n",
              "      <th>SDMVPSU</th>\n",
              "      <th>SDMVSTRA</th>\n",
              "      <th>WTMEC2YR</th>\n",
              "      <th>RIDRETH1</th>\n",
              "      <th>RIDRETH3</th>\n",
              "      <th>RIDAGEYR</th>\n",
              "      <th>RIAGENDR</th>\n",
              "      <th>BMXWT</th>\n",
              "      <th>BMXRECUM</th>\n",
              "      <th>...</th>\n",
              "      <th>BMXARMC</th>\n",
              "      <th>BMXWAIST</th>\n",
              "      <th>BMXTHICR</th>\n",
              "      <th>BMXTRI</th>\n",
              "      <th>BMXSUB</th>\n",
              "      <th>BMXHTGROUP</th>\n",
              "      <th>BMXSAD1</th>\n",
              "      <th>BMXSAD2</th>\n",
              "      <th>BMXSAD3</th>\n",
              "      <th>BMXSAD4</th>\n",
              "    </tr>\n",
              "  </thead>\n",
              "  <tbody>\n",
              "    <tr>\n",
              "      <th>0</th>\n",
              "      <td>73557.0</td>\n",
              "      <td>1</td>\n",
              "      <td>112</td>\n",
              "      <td>13481.042095</td>\n",
              "      <td>4</td>\n",
              "      <td>4</td>\n",
              "      <td>69</td>\n",
              "      <td>1</td>\n",
              "      <td>78.3</td>\n",
              "      <td>NaN</td>\n",
              "      <td>...</td>\n",
              "      <td>35.3</td>\n",
              "      <td>100.0</td>\n",
              "      <td>NaN</td>\n",
              "      <td>NaN</td>\n",
              "      <td>NaN</td>\n",
              "      <td>NaN</td>\n",
              "      <td>20.5</td>\n",
              "      <td>20.6</td>\n",
              "      <td>NaN</td>\n",
              "      <td>NaN</td>\n",
              "    </tr>\n",
              "    <tr>\n",
              "      <th>1</th>\n",
              "      <td>73558.0</td>\n",
              "      <td>1</td>\n",
              "      <td>108</td>\n",
              "      <td>24471.769625</td>\n",
              "      <td>3</td>\n",
              "      <td>3</td>\n",
              "      <td>54</td>\n",
              "      <td>1</td>\n",
              "      <td>89.5</td>\n",
              "      <td>NaN</td>\n",
              "      <td>...</td>\n",
              "      <td>34.7</td>\n",
              "      <td>107.6</td>\n",
              "      <td>NaN</td>\n",
              "      <td>NaN</td>\n",
              "      <td>NaN</td>\n",
              "      <td>NaN</td>\n",
              "      <td>24.2</td>\n",
              "      <td>24.5</td>\n",
              "      <td>NaN</td>\n",
              "      <td>NaN</td>\n",
              "    </tr>\n",
              "    <tr>\n",
              "      <th>2</th>\n",
              "      <td>73559.0</td>\n",
              "      <td>1</td>\n",
              "      <td>109</td>\n",
              "      <td>57193.285376</td>\n",
              "      <td>3</td>\n",
              "      <td>3</td>\n",
              "      <td>72</td>\n",
              "      <td>1</td>\n",
              "      <td>88.9</td>\n",
              "      <td>NaN</td>\n",
              "      <td>...</td>\n",
              "      <td>33.5</td>\n",
              "      <td>109.2</td>\n",
              "      <td>NaN</td>\n",
              "      <td>NaN</td>\n",
              "      <td>NaN</td>\n",
              "      <td>NaN</td>\n",
              "      <td>25.8</td>\n",
              "      <td>25.4</td>\n",
              "      <td>NaN</td>\n",
              "      <td>NaN</td>\n",
              "    </tr>\n",
              "    <tr>\n",
              "      <th>3</th>\n",
              "      <td>73560.0</td>\n",
              "      <td>2</td>\n",
              "      <td>109</td>\n",
              "      <td>55766.512438</td>\n",
              "      <td>3</td>\n",
              "      <td>3</td>\n",
              "      <td>9</td>\n",
              "      <td>1</td>\n",
              "      <td>32.2</td>\n",
              "      <td>NaN</td>\n",
              "      <td>...</td>\n",
              "      <td>21.0</td>\n",
              "      <td>61.0</td>\n",
              "      <td>NaN</td>\n",
              "      <td>NaN</td>\n",
              "      <td>NaN</td>\n",
              "      <td>NaN</td>\n",
              "      <td>14.8</td>\n",
              "      <td>15.0</td>\n",
              "      <td>NaN</td>\n",
              "      <td>NaN</td>\n",
              "    </tr>\n",
              "    <tr>\n",
              "      <th>4</th>\n",
              "      <td>73561.0</td>\n",
              "      <td>2</td>\n",
              "      <td>116</td>\n",
              "      <td>65541.871229</td>\n",
              "      <td>3</td>\n",
              "      <td>3</td>\n",
              "      <td>73</td>\n",
              "      <td>2</td>\n",
              "      <td>52.0</td>\n",
              "      <td>NaN</td>\n",
              "      <td>...</td>\n",
              "      <td>25.2</td>\n",
              "      <td>NaN</td>\n",
              "      <td>NaN</td>\n",
              "      <td>NaN</td>\n",
              "      <td>NaN</td>\n",
              "      <td>NaN</td>\n",
              "      <td>NaN</td>\n",
              "      <td>NaN</td>\n",
              "      <td>NaN</td>\n",
              "      <td>NaN</td>\n",
              "    </tr>\n",
              "  </tbody>\n",
              "</table>\n",
              "<p>5 rows × 26 columns</p>\n",
              "</div>"
            ],
            "text/plain": [
              "      SEQN  SDMVPSU  SDMVSTRA      WTMEC2YR  RIDRETH1  RIDRETH3  RIDAGEYR  \\\n",
              "0  73557.0        1       112  13481.042095         4         4        69   \n",
              "1  73558.0        1       108  24471.769625         3         3        54   \n",
              "2  73559.0        1       109  57193.285376         3         3        72   \n",
              "3  73560.0        2       109  55766.512438         3         3         9   \n",
              "4  73561.0        2       116  65541.871229         3         3        73   \n",
              "\n",
              "   RIAGENDR  BMXWT  BMXRECUM   ...     BMXARMC  BMXWAIST  BMXTHICR  BMXTRI  \\\n",
              "0         1   78.3       NaN   ...        35.3     100.0       NaN     NaN   \n",
              "1         1   89.5       NaN   ...        34.7     107.6       NaN     NaN   \n",
              "2         1   88.9       NaN   ...        33.5     109.2       NaN     NaN   \n",
              "3         1   32.2       NaN   ...        21.0      61.0       NaN     NaN   \n",
              "4         2   52.0       NaN   ...        25.2       NaN       NaN     NaN   \n",
              "\n",
              "   BMXSUB  BMXHTGROUP  BMXSAD1  BMXSAD2  BMXSAD3  BMXSAD4  \n",
              "0     NaN         NaN     20.5     20.6      NaN      NaN  \n",
              "1     NaN         NaN     24.2     24.5      NaN      NaN  \n",
              "2     NaN         NaN     25.8     25.4      NaN      NaN  \n",
              "3     NaN         NaN     14.8     15.0      NaN      NaN  \n",
              "4     NaN         NaN      NaN      NaN      NaN      NaN  \n",
              "\n",
              "[5 rows x 26 columns]"
            ]
          },
          "metadata": {
            "tags": []
          },
          "execution_count": 15
        }
      ]
    },
    {
      "metadata": {
        "id": "obExKW1yVMHZ",
        "colab_type": "code",
        "outputId": "3cf1c149-9ee6-462c-bc14-7beda69d3d1e",
        "colab": {
          "base_uri": "https://localhost:8080/",
          "height": 346
        }
      },
      "cell_type": "code",
      "source": [
        "# summarize data\n",
        "df.describe()"
      ],
      "execution_count": 0,
      "outputs": [
        {
          "output_type": "execute_result",
          "data": {
            "text/html": [
              "<div>\n",
              "<style scoped>\n",
              "    .dataframe tbody tr th:only-of-type {\n",
              "        vertical-align: middle;\n",
              "    }\n",
              "\n",
              "    .dataframe tbody tr th {\n",
              "        vertical-align: top;\n",
              "    }\n",
              "\n",
              "    .dataframe thead th {\n",
              "        text-align: right;\n",
              "    }\n",
              "</style>\n",
              "<table border=\"1\" class=\"dataframe\">\n",
              "  <thead>\n",
              "    <tr style=\"text-align: right;\">\n",
              "      <th></th>\n",
              "      <th>SEQN</th>\n",
              "      <th>SDMVPSU</th>\n",
              "      <th>SDMVSTRA</th>\n",
              "      <th>WTMEC2YR</th>\n",
              "      <th>RIDRETH1</th>\n",
              "      <th>RIDRETH3</th>\n",
              "      <th>RIDAGEYR</th>\n",
              "      <th>RIAGENDR</th>\n",
              "      <th>BMXWT</th>\n",
              "      <th>BMXRECUM</th>\n",
              "      <th>...</th>\n",
              "      <th>BMXARMC</th>\n",
              "      <th>BMXWAIST</th>\n",
              "      <th>BMXTHICR</th>\n",
              "      <th>BMXTRI</th>\n",
              "      <th>BMXSUB</th>\n",
              "      <th>BMXHTGROUP</th>\n",
              "      <th>BMXSAD1</th>\n",
              "      <th>BMXSAD2</th>\n",
              "      <th>BMXSAD3</th>\n",
              "      <th>BMXSAD4</th>\n",
              "    </tr>\n",
              "  </thead>\n",
              "  <tbody>\n",
              "    <tr>\n",
              "      <th>count</th>\n",
              "      <td>10175.000000</td>\n",
              "      <td>10175.000000</td>\n",
              "      <td>10175.000000</td>\n",
              "      <td>10175.000000</td>\n",
              "      <td>10175.000000</td>\n",
              "      <td>10175.000000</td>\n",
              "      <td>10175.000000</td>\n",
              "      <td>10175.000000</td>\n",
              "      <td>9723.000000</td>\n",
              "      <td>1065.000000</td>\n",
              "      <td>...</td>\n",
              "      <td>9301.000000</td>\n",
              "      <td>8661.000000</td>\n",
              "      <td>0.0</td>\n",
              "      <td>0.0</td>\n",
              "      <td>0.0</td>\n",
              "      <td>0.0</td>\n",
              "      <td>7218.000000</td>\n",
              "      <td>7218.000000</td>\n",
              "      <td>358.000000</td>\n",
              "      <td>358.000000</td>\n",
              "    </tr>\n",
              "    <tr>\n",
              "      <th>mean</th>\n",
              "      <td>78644.000000</td>\n",
              "      <td>1.484128</td>\n",
              "      <td>110.926880</td>\n",
              "      <td>30585.180933</td>\n",
              "      <td>3.091892</td>\n",
              "      <td>3.289828</td>\n",
              "      <td>31.484128</td>\n",
              "      <td>1.508305</td>\n",
              "      <td>62.599054</td>\n",
              "      <td>81.631174</td>\n",
              "      <td>...</td>\n",
              "      <td>28.485765</td>\n",
              "      <td>87.272047</td>\n",
              "      <td>NaN</td>\n",
              "      <td>NaN</td>\n",
              "      <td>NaN</td>\n",
              "      <td>NaN</td>\n",
              "      <td>21.107869</td>\n",
              "      <td>21.089748</td>\n",
              "      <td>22.228492</td>\n",
              "      <td>22.203911</td>\n",
              "    </tr>\n",
              "    <tr>\n",
              "      <th>std</th>\n",
              "      <td>2937.413829</td>\n",
              "      <td>0.499773</td>\n",
              "      <td>4.260322</td>\n",
              "      <td>27941.005388</td>\n",
              "      <td>1.263305</td>\n",
              "      <td>1.613241</td>\n",
              "      <td>24.421651</td>\n",
              "      <td>0.499956</td>\n",
              "      <td>32.331616</td>\n",
              "      <td>14.219097</td>\n",
              "      <td>...</td>\n",
              "      <td>7.961971</td>\n",
              "      <td>22.542605</td>\n",
              "      <td>NaN</td>\n",
              "      <td>NaN</td>\n",
              "      <td>NaN</td>\n",
              "      <td>NaN</td>\n",
              "      <td>4.964898</td>\n",
              "      <td>4.972462</td>\n",
              "      <td>5.052650</td>\n",
              "      <td>5.056758</td>\n",
              "    </tr>\n",
              "    <tr>\n",
              "      <th>min</th>\n",
              "      <td>73557.000000</td>\n",
              "      <td>1.000000</td>\n",
              "      <td>104.000000</td>\n",
              "      <td>0.000000</td>\n",
              "      <td>1.000000</td>\n",
              "      <td>1.000000</td>\n",
              "      <td>0.000000</td>\n",
              "      <td>1.000000</td>\n",
              "      <td>3.100000</td>\n",
              "      <td>48.600000</td>\n",
              "      <td>...</td>\n",
              "      <td>10.400000</td>\n",
              "      <td>40.200000</td>\n",
              "      <td>NaN</td>\n",
              "      <td>NaN</td>\n",
              "      <td>NaN</td>\n",
              "      <td>NaN</td>\n",
              "      <td>10.000000</td>\n",
              "      <td>10.200000</td>\n",
              "      <td>10.900000</td>\n",
              "      <td>11.000000</td>\n",
              "    </tr>\n",
              "    <tr>\n",
              "      <th>25%</th>\n",
              "      <td>76100.500000</td>\n",
              "      <td>1.000000</td>\n",
              "      <td>107.000000</td>\n",
              "      <td>12561.598665</td>\n",
              "      <td>2.000000</td>\n",
              "      <td>2.000000</td>\n",
              "      <td>10.000000</td>\n",
              "      <td>1.000000</td>\n",
              "      <td>37.950000</td>\n",
              "      <td>69.700000</td>\n",
              "      <td>...</td>\n",
              "      <td>22.600000</td>\n",
              "      <td>71.200000</td>\n",
              "      <td>NaN</td>\n",
              "      <td>NaN</td>\n",
              "      <td>NaN</td>\n",
              "      <td>NaN</td>\n",
              "      <td>17.300000</td>\n",
              "      <td>17.300000</td>\n",
              "      <td>18.500000</td>\n",
              "      <td>18.500000</td>\n",
              "    </tr>\n",
              "    <tr>\n",
              "      <th>50%</th>\n",
              "      <td>78644.000000</td>\n",
              "      <td>1.000000</td>\n",
              "      <td>111.000000</td>\n",
              "      <td>20174.573544</td>\n",
              "      <td>3.000000</td>\n",
              "      <td>3.000000</td>\n",
              "      <td>26.000000</td>\n",
              "      <td>2.000000</td>\n",
              "      <td>65.300000</td>\n",
              "      <td>82.800000</td>\n",
              "      <td>...</td>\n",
              "      <td>29.300000</td>\n",
              "      <td>87.800000</td>\n",
              "      <td>NaN</td>\n",
              "      <td>NaN</td>\n",
              "      <td>NaN</td>\n",
              "      <td>NaN</td>\n",
              "      <td>20.700000</td>\n",
              "      <td>20.700000</td>\n",
              "      <td>22.400000</td>\n",
              "      <td>22.400000</td>\n",
              "    </tr>\n",
              "    <tr>\n",
              "      <th>75%</th>\n",
              "      <td>81187.500000</td>\n",
              "      <td>2.000000</td>\n",
              "      <td>115.000000</td>\n",
              "      <td>36748.217798</td>\n",
              "      <td>4.000000</td>\n",
              "      <td>4.000000</td>\n",
              "      <td>52.000000</td>\n",
              "      <td>2.000000</td>\n",
              "      <td>83.500000</td>\n",
              "      <td>93.200000</td>\n",
              "      <td>...</td>\n",
              "      <td>34.000000</td>\n",
              "      <td>102.800000</td>\n",
              "      <td>NaN</td>\n",
              "      <td>NaN</td>\n",
              "      <td>NaN</td>\n",
              "      <td>NaN</td>\n",
              "      <td>24.400000</td>\n",
              "      <td>24.375000</td>\n",
              "      <td>25.400000</td>\n",
              "      <td>25.300000</td>\n",
              "    </tr>\n",
              "    <tr>\n",
              "      <th>max</th>\n",
              "      <td>83731.000000</td>\n",
              "      <td>2.000000</td>\n",
              "      <td>118.000000</td>\n",
              "      <td>171395.264901</td>\n",
              "      <td>5.000000</td>\n",
              "      <td>7.000000</td>\n",
              "      <td>80.000000</td>\n",
              "      <td>2.000000</td>\n",
              "      <td>222.600000</td>\n",
              "      <td>115.100000</td>\n",
              "      <td>...</td>\n",
              "      <td>59.400000</td>\n",
              "      <td>177.900000</td>\n",
              "      <td>NaN</td>\n",
              "      <td>NaN</td>\n",
              "      <td>NaN</td>\n",
              "      <td>NaN</td>\n",
              "      <td>40.200000</td>\n",
              "      <td>40.200000</td>\n",
              "      <td>35.600000</td>\n",
              "      <td>35.600000</td>\n",
              "    </tr>\n",
              "  </tbody>\n",
              "</table>\n",
              "<p>8 rows × 26 columns</p>\n",
              "</div>"
            ],
            "text/plain": [
              "               SEQN       SDMVPSU      SDMVSTRA       WTMEC2YR      RIDRETH1  \\\n",
              "count  10175.000000  10175.000000  10175.000000   10175.000000  10175.000000   \n",
              "mean   78644.000000      1.484128    110.926880   30585.180933      3.091892   \n",
              "std     2937.413829      0.499773      4.260322   27941.005388      1.263305   \n",
              "min    73557.000000      1.000000    104.000000       0.000000      1.000000   \n",
              "25%    76100.500000      1.000000    107.000000   12561.598665      2.000000   \n",
              "50%    78644.000000      1.000000    111.000000   20174.573544      3.000000   \n",
              "75%    81187.500000      2.000000    115.000000   36748.217798      4.000000   \n",
              "max    83731.000000      2.000000    118.000000  171395.264901      5.000000   \n",
              "\n",
              "           RIDRETH3      RIDAGEYR      RIAGENDR        BMXWT     BMXRECUM  \\\n",
              "count  10175.000000  10175.000000  10175.000000  9723.000000  1065.000000   \n",
              "mean       3.289828     31.484128      1.508305    62.599054    81.631174   \n",
              "std        1.613241     24.421651      0.499956    32.331616    14.219097   \n",
              "min        1.000000      0.000000      1.000000     3.100000    48.600000   \n",
              "25%        2.000000     10.000000      1.000000    37.950000    69.700000   \n",
              "50%        3.000000     26.000000      2.000000    65.300000    82.800000   \n",
              "75%        4.000000     52.000000      2.000000    83.500000    93.200000   \n",
              "max        7.000000     80.000000      2.000000   222.600000   115.100000   \n",
              "\n",
              "          ...          BMXARMC     BMXWAIST  BMXTHICR  BMXTRI  BMXSUB  \\\n",
              "count     ...      9301.000000  8661.000000       0.0     0.0     0.0   \n",
              "mean      ...        28.485765    87.272047       NaN     NaN     NaN   \n",
              "std       ...         7.961971    22.542605       NaN     NaN     NaN   \n",
              "min       ...        10.400000    40.200000       NaN     NaN     NaN   \n",
              "25%       ...        22.600000    71.200000       NaN     NaN     NaN   \n",
              "50%       ...        29.300000    87.800000       NaN     NaN     NaN   \n",
              "75%       ...        34.000000   102.800000       NaN     NaN     NaN   \n",
              "max       ...        59.400000   177.900000       NaN     NaN     NaN   \n",
              "\n",
              "       BMXHTGROUP      BMXSAD1      BMXSAD2     BMXSAD3     BMXSAD4  \n",
              "count         0.0  7218.000000  7218.000000  358.000000  358.000000  \n",
              "mean          NaN    21.107869    21.089748   22.228492   22.203911  \n",
              "std           NaN     4.964898     4.972462    5.052650    5.056758  \n",
              "min           NaN    10.000000    10.200000   10.900000   11.000000  \n",
              "25%           NaN    17.300000    17.300000   18.500000   18.500000  \n",
              "50%           NaN    20.700000    20.700000   22.400000   22.400000  \n",
              "75%           NaN    24.400000    24.375000   25.400000   25.300000  \n",
              "max           NaN    40.200000    40.200000   35.600000   35.600000  \n",
              "\n",
              "[8 rows x 26 columns]"
            ]
          },
          "metadata": {
            "tags": []
          },
          "execution_count": 16
        }
      ]
    },
    {
      "metadata": {
        "id": "sDKt3L5mDVvc",
        "colab_type": "text"
      },
      "cell_type": "markdown",
      "source": [
        "Here we define a basic Python version of svymean from library(survey):"
      ]
    },
    {
      "metadata": {
        "id": "oFOo3e9f_LN9",
        "colab_type": "code",
        "colab": {}
      },
      "cell_type": "code",
      "source": [
        "def svymean(variable_col,weight_col,df):\n",
        "  data = df[[variable_col,weight_col]]\n",
        "  data = data.dropna()\n",
        "  wts = data[weight_col].values.tolist()\n",
        "  dat = data[variable_col].values.tolist()\n",
        "  return sum(w*d for w,d in zip(wts,dat))/sum(wts)"
      ],
      "execution_count": 0,
      "outputs": []
    },
    {
      "metadata": {
        "id": "ikygifJcDPMa",
        "colab_type": "text"
      },
      "cell_type": "markdown",
      "source": [
        "Let's check agreement with the R-based estimates:"
      ]
    },
    {
      "metadata": {
        "id": "io-BMVUFAQ7S",
        "colab_type": "code",
        "outputId": "b0fc14be-157e-4c24-a9b2-eca44628dd3a",
        "colab": {
          "base_uri": "https://localhost:8080/",
          "height": 34
        }
      },
      "cell_type": "code",
      "source": [
        "svymean(\"BMXBMI\",\"WTMEC2YR\",df)"
      ],
      "execution_count": 0,
      "outputs": [
        {
          "output_type": "execute_result",
          "data": {
            "text/plain": [
              "27.07056164452085"
            ]
          },
          "metadata": {
            "tags": []
          },
          "execution_count": 18
        }
      ]
    },
    {
      "metadata": {
        "id": "IhE0A2ACCxB7",
        "colab_type": "code",
        "outputId": "8be65fa7-437f-42a3-f441-62495fd20330",
        "colab": {
          "base_uri": "https://localhost:8080/",
          "height": 34
        }
      },
      "cell_type": "code",
      "source": [
        "svymean(\"BMXHEAD\",\"WTMEC2YR\",df)"
      ],
      "execution_count": 0,
      "outputs": [
        {
          "output_type": "execute_result",
          "data": {
            "text/plain": [
              "41.66863220605581"
            ]
          },
          "metadata": {
            "tags": []
          },
          "execution_count": 19
        }
      ]
    },
    {
      "metadata": {
        "id": "GeCaogpBC6HO",
        "colab_type": "code",
        "outputId": "81d3005c-a087-4ff0-e7bb-14581dc1cd4f",
        "colab": {
          "base_uri": "https://localhost:8080/",
          "height": 34
        }
      },
      "cell_type": "code",
      "source": [
        "svymean(\"BMXHT\",\"WTMEC2YR\",df)"
      ],
      "execution_count": 0,
      "outputs": [
        {
          "output_type": "execute_result",
          "data": {
            "text/plain": [
              "161.89324039700136"
            ]
          },
          "metadata": {
            "tags": []
          },
          "execution_count": 20
        }
      ]
    },
    {
      "metadata": {
        "id": "PMWjCBBIRWXI",
        "colab_type": "text"
      },
      "cell_type": "markdown",
      "source": [
        "Now we implement a Python version of svyvar and check agreement with R-based estimates for the same three variables:"
      ]
    },
    {
      "metadata": {
        "id": "48q2dnFMDcdN",
        "colab_type": "code",
        "colab": {}
      },
      "cell_type": "code",
      "source": [
        "def svyvar(variable_col,weight_col,df):\n",
        "  data = df[[variable_col,weight_col]]\n",
        "  data = data.dropna()\n",
        "  wts = data[weight_col].values.tolist()\n",
        "  dat = data[variable_col].values.tolist()\n",
        "  n = df.shape[0]-df[weight_col].values.tolist().count(0)\n",
        "  dat_bar = svymean(variable_col,weight_col,df)\n",
        "  dat = [d-dat_bar for d in dat]\n",
        "  return (n/(n-1))*sum(w*d*d for w,d in zip(wts,dat))/sum(wts)"
      ],
      "execution_count": 0,
      "outputs": []
    },
    {
      "metadata": {
        "id": "gSjmk2DBK4QS",
        "colab_type": "code",
        "outputId": "37dca463-3b7d-4e07-e353-d0478d3fddab",
        "colab": {
          "base_uri": "https://localhost:8080/",
          "height": 34
        }
      },
      "cell_type": "code",
      "source": [
        "svyvar(\"BMXBMI\",\"WTMEC2YR\",df)"
      ],
      "execution_count": 0,
      "outputs": [
        {
          "output_type": "execute_result",
          "data": {
            "text/plain": [
              "60.49812487155186"
            ]
          },
          "metadata": {
            "tags": []
          },
          "execution_count": 22
        }
      ]
    },
    {
      "metadata": {
        "id": "ym7_amMdK8PV",
        "colab_type": "code",
        "outputId": "90346051-7b0e-4342-e6ac-e4e27a27a48a",
        "colab": {
          "base_uri": "https://localhost:8080/",
          "height": 34
        }
      },
      "cell_type": "code",
      "source": [
        "svyvar(\"BMXHEAD\",\"WTMEC2YR\",df)"
      ],
      "execution_count": 0,
      "outputs": [
        {
          "output_type": "execute_result",
          "data": {
            "text/plain": [
              "6.488911180588469"
            ]
          },
          "metadata": {
            "tags": []
          },
          "execution_count": 23
        }
      ]
    },
    {
      "metadata": {
        "id": "1XVk4CzKNRA-",
        "colab_type": "code",
        "outputId": "8bac830b-faeb-4924-9d81-a6f7520f7739",
        "colab": {
          "base_uri": "https://localhost:8080/",
          "height": 34
        }
      },
      "cell_type": "code",
      "source": [
        "svyvar(\"BMXHT\",\"WTMEC2YR\",df)"
      ],
      "execution_count": 0,
      "outputs": [
        {
          "output_type": "execute_result",
          "data": {
            "text/plain": [
              "384.5863899670593"
            ]
          },
          "metadata": {
            "tags": []
          },
          "execution_count": 24
        }
      ]
    }
  ]
}